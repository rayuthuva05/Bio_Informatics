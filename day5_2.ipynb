{
 "cells": [
  {
   "cell_type": "code",
   "execution_count": 34,
   "id": "15c5377c",
   "metadata": {},
   "outputs": [
    {
     "data": {
      "text/html": [
       "<div>\n",
       "<style scoped>\n",
       "    .dataframe tbody tr th:only-of-type {\n",
       "        vertical-align: middle;\n",
       "    }\n",
       "\n",
       "    .dataframe tbody tr th {\n",
       "        vertical-align: top;\n",
       "    }\n",
       "\n",
       "    .dataframe thead th {\n",
       "        text-align: right;\n",
       "    }\n",
       "</style>\n",
       "<table border=\"1\" class=\"dataframe\">\n",
       "  <thead>\n",
       "    <tr style=\"text-align: right;\">\n",
       "      <th></th>\n",
       "      <th>Name</th>\n",
       "      <th>Age</th>\n",
       "      <th>Score</th>\n",
       "      <th>City</th>\n",
       "    </tr>\n",
       "  </thead>\n",
       "  <tbody>\n",
       "    <tr>\n",
       "      <th>0</th>\n",
       "      <td>Alan</td>\n",
       "      <td>25</td>\n",
       "      <td>68</td>\n",
       "      <td>NewYork</td>\n",
       "    </tr>\n",
       "    <tr>\n",
       "      <th>1</th>\n",
       "      <td>Bob</td>\n",
       "      <td>30</td>\n",
       "      <td>70</td>\n",
       "      <td>Leo anggle</td>\n",
       "    </tr>\n",
       "    <tr>\n",
       "      <th>2</th>\n",
       "      <td>Dannie</td>\n",
       "      <td>22</td>\n",
       "      <td>90</td>\n",
       "      <td>France</td>\n",
       "    </tr>\n",
       "    <tr>\n",
       "      <th>3</th>\n",
       "      <td>David</td>\n",
       "      <td>23</td>\n",
       "      <td>80</td>\n",
       "      <td>London</td>\n",
       "    </tr>\n",
       "    <tr>\n",
       "      <th>4</th>\n",
       "      <td>Kari</td>\n",
       "      <td>19</td>\n",
       "      <td>75</td>\n",
       "      <td>Osio</td>\n",
       "    </tr>\n",
       "    <tr>\n",
       "      <th>5</th>\n",
       "      <td>Amie</td>\n",
       "      <td>22</td>\n",
       "      <td>77</td>\n",
       "      <td>Becenome</td>\n",
       "    </tr>\n",
       "    <tr>\n",
       "      <th>6</th>\n",
       "      <td>Daminan</td>\n",
       "      <td>27</td>\n",
       "      <td>82</td>\n",
       "      <td>France</td>\n",
       "    </tr>\n",
       "  </tbody>\n",
       "</table>\n",
       "</div>"
      ],
      "text/plain": [
       "      Name  Age  Score        City\n",
       "0     Alan   25     68     NewYork\n",
       "1      Bob   30     70  Leo anggle\n",
       "2   Dannie   22     90      France\n",
       "3    David   23     80      London\n",
       "4     Kari   19     75        Osio\n",
       "5     Amie   22     77    Becenome\n",
       "6  Daminan   27     82      France"
      ]
     },
     "execution_count": 34,
     "metadata": {},
     "output_type": "execute_result"
    }
   ],
   "source": [
    "import pandas as pd\n",
    "\n",
    "table=[('Alan',25,68,'NewYork'),('Bob',30,70,'Leo anggle'),\n",
    "      ('Dannie',22,90,'France'),('David',23,80,'London'),\n",
    "      ('Kari',19,75,'Osio'),('Amie',22,77,'Becenome'),\n",
    "      ('Daminan',27,82,'France')]\n",
    "\n",
    "df=pd.DataFrame(table,columns=['Name','Age','Score','City'])\n",
    "\n",
    "df"
   ]
  },
  {
   "cell_type": "code",
   "execution_count": 35,
   "id": "a66c6fff",
   "metadata": {},
   "outputs": [
    {
     "name": "stdout",
     "output_type": "stream",
     "text": [
      "0       Alan\n",
      "1        Bob\n",
      "2     Dannie\n",
      "3      David\n",
      "4       Kari\n",
      "5       Amie\n",
      "6    Daminan\n",
      "Name: Name, dtype: object\n",
      "***************\n",
      "\n",
      "      Name  Score\n",
      "0     Alan     68\n",
      "1      Bob     70\n",
      "2   Dannie     90\n",
      "3    David     80\n",
      "4     Kari     75\n",
      "5     Amie     77\n",
      "6  Daminan     82\n"
     ]
    }
   ],
   "source": [
    "selection_of_1=df['Name']\n",
    "selection_of_2=df[['Name','Score']]\n",
    "\n",
    "print(selection_of_1)\n",
    "print('***************\\n')\n",
    "print(selection_of_2)"
   ]
  },
  {
   "cell_type": "code",
   "execution_count": 36,
   "id": "51741e6c",
   "metadata": {},
   "outputs": [
    {
     "name": "stdout",
     "output_type": "stream",
     "text": [
      "   Name  Age  Score        City\n",
      "0  Alan   25     68     NewYork\n",
      "1   Bob   30     70  Leo anggle\n",
      "\n",
      "***************\n",
      "\n",
      "   Age  Score\n",
      "0   25     68\n",
      "1   30     70\n",
      "2   22     90\n",
      "3   23     80\n",
      "4   19     75\n",
      "5   22     77\n",
      "6   27     82\n"
     ]
    }
   ],
   "source": [
    "selection_of_3=df[0:2]\n",
    "selection_of_4=df.iloc[:,1:3]\n",
    "\n",
    "print(selection_of_3)\n",
    "print('\\n***************\\n')\n",
    "print(selection_of_4)"
   ]
  },
  {
   "cell_type": "code",
   "execution_count": 20,
   "id": "97526ff4",
   "metadata": {},
   "outputs": [
    {
     "data": {
      "text/html": [
       "<div>\n",
       "<style scoped>\n",
       "    .dataframe tbody tr th:only-of-type {\n",
       "        vertical-align: middle;\n",
       "    }\n",
       "\n",
       "    .dataframe tbody tr th {\n",
       "        vertical-align: top;\n",
       "    }\n",
       "\n",
       "    .dataframe thead th {\n",
       "        text-align: right;\n",
       "    }\n",
       "</style>\n",
       "<table border=\"1\" class=\"dataframe\">\n",
       "  <thead>\n",
       "    <tr style=\"text-align: right;\">\n",
       "      <th></th>\n",
       "      <th>Name</th>\n",
       "      <th>City</th>\n",
       "    </tr>\n",
       "  </thead>\n",
       "  <tbody>\n",
       "    <tr>\n",
       "      <th>0</th>\n",
       "      <td>Alan</td>\n",
       "      <td>NewYork</td>\n",
       "    </tr>\n",
       "    <tr>\n",
       "      <th>1</th>\n",
       "      <td>Bob</td>\n",
       "      <td>Leo anggle</td>\n",
       "    </tr>\n",
       "    <tr>\n",
       "      <th>2</th>\n",
       "      <td>Dannie</td>\n",
       "      <td>France</td>\n",
       "    </tr>\n",
       "    <tr>\n",
       "      <th>3</th>\n",
       "      <td>David</td>\n",
       "      <td>London</td>\n",
       "    </tr>\n",
       "    <tr>\n",
       "      <th>4</th>\n",
       "      <td>Kari</td>\n",
       "      <td>Osio</td>\n",
       "    </tr>\n",
       "    <tr>\n",
       "      <th>5</th>\n",
       "      <td>Amie</td>\n",
       "      <td>Becenome</td>\n",
       "    </tr>\n",
       "    <tr>\n",
       "      <th>6</th>\n",
       "      <td>Daminan</td>\n",
       "      <td>France</td>\n",
       "    </tr>\n",
       "  </tbody>\n",
       "</table>\n",
       "</div>"
      ],
      "text/plain": [
       "      Name        City\n",
       "0     Alan     NewYork\n",
       "1      Bob  Leo anggle\n",
       "2   Dannie      France\n",
       "3    David      London\n",
       "4     Kari        Osio\n",
       "5     Amie    Becenome\n",
       "6  Daminan      France"
      ]
     },
     "execution_count": 20,
     "metadata": {},
     "output_type": "execute_result"
    }
   ],
   "source": [
    "selection_of_5=df.loc[:,['Name','City']]\n",
    "selection_of_5"
   ]
  },
  {
   "cell_type": "code",
   "execution_count": 59,
   "id": "f7d042e4",
   "metadata": {},
   "outputs": [
    {
     "name": "stdout",
     "output_type": "stream",
     "text": [
      "     FName      LName  Age  Comedy_score  Nating_score\n",
      "0  smeldon     Copper   42             5            25\n",
      "1      raj  Northwell   38             7            25\n",
      "2  leopard       gfbb   36             8            48\n",
      "3   haward    Nicklus   41             8            62\n",
      "4      may     rawler   35             5            70\n"
     ]
    }
   ],
   "source": [
    "raw_data={'FName':['smeldon','raj','leopard','haward','may'],\n",
    "         'LName':['Copper','Northwell','gfbb','Nicklus','rawler'],\n",
    "         'Age':[42,38,36,41,35],\n",
    "         'Comedy_score':[5,7,8,8,5],\n",
    "         'Nating_score':[25,25,48,62,70]}\n",
    "\n",
    "df1=pd.DataFrame(raw_data,columns=['FName','LName','Age','Comedy_score','Nating_score'])\n",
    "\n",
    "print(df1)\n"
   ]
  },
  {
   "cell_type": "code",
   "execution_count": 58,
   "id": "ccd62b6d",
   "metadata": {},
   "outputs": [
    {
     "name": "stdout",
     "output_type": "stream",
     "text": [
      "     FName      LName  Age  Comedy_score  Nating_score\n",
      "0  smeldon     Copper   42             5            25\n",
      "3   haward    Nicklus   41             8            62\n",
      "1      raj  Northwell   38             7            25\n",
      "2  leopard       gfbb   36             8            48\n",
      "4      may     rawler   35             5            70\n"
     ]
    }
   ],
   "source": [
    "print(df1.sort_values(by='Age',ascending=0))"
   ]
  },
  {
   "cell_type": "code",
   "execution_count": 57,
   "id": "aa5cb06c",
   "metadata": {},
   "outputs": [
    {
     "name": "stdout",
     "output_type": "stream",
     "text": [
      "     FName      LName  Age  Comedy_score  Nating_score\n",
      "4      may     rawler   35             5            70\n",
      "2  leopard       gfbb   36             8            48\n",
      "1      raj  Northwell   38             7            25\n",
      "3   haward    Nicklus   41             8            62\n",
      "0  smeldon     Copper   42             5            25\n"
     ]
    }
   ],
   "source": [
    "print(df1.sort_values(by='Age',ascending=1))"
   ]
  },
  {
   "cell_type": "code",
   "execution_count": 56,
   "id": "8fd2693a",
   "metadata": {},
   "outputs": [
    {
     "name": "stdout",
     "output_type": "stream",
     "text": [
      "     FName      LName  Age  Comedy_score  Nating_score\n",
      "4      may     rawler   35             5            70\n",
      "2  leopard       gfbb   36             8            48\n",
      "1      raj  Northwell   38             7            25\n",
      "3   haward    Nicklus   41             8            62\n",
      "0  smeldon     Copper   42             5            25\n"
     ]
    }
   ],
   "source": [
    "print(df1.sort_values(by=['Age','Comedy_score']))"
   ]
  },
  {
   "cell_type": "code",
   "execution_count": 55,
   "id": "2ec6ce1d",
   "metadata": {},
   "outputs": [
    {
     "name": "stdout",
     "output_type": "stream",
     "text": [
      "<pandas.core.groupby.generic.DataFrameGroupBy object at 0x0000025F0D6E2AF0>\n",
      "Age\n",
      "35    1\n",
      "36    1\n",
      "38    1\n",
      "41    1\n",
      "42    1\n",
      "dtype: int64\n"
     ]
    }
   ],
   "source": [
    "group_g=df1.groupby(['Age'])\n",
    "print(group_g)\n",
    "print(group_g.size())"
   ]
  },
  {
   "cell_type": "code",
   "execution_count": 53,
   "id": "a409fe3e",
   "metadata": {},
   "outputs": [
    {
     "name": "stdout",
     "output_type": "stream",
     "text": [
      "<pandas.core.groupby.generic.DataFrameGroupBy object at 0x0000025F0FE46040>\n",
      "Comedy_score  Nating_score\n",
      "5             25              1\n",
      "              70              1\n",
      "7             25              1\n",
      "8             48              1\n",
      "              62              1\n",
      "dtype: int64\n"
     ]
    }
   ],
   "source": [
    "g2=df1.groupby(['Comedy_score','Nating_score'])\n",
    "print(g2)\n",
    "print(g2.size())"
   ]
  },
  {
   "cell_type": "code",
   "execution_count": 61,
   "id": "2a811d58",
   "metadata": {},
   "outputs": [
    {
     "name": "stdout",
     "output_type": "stream",
     "text": [
      "Index of larger value \n"
     ]
    }
   ],
   "source": [
    "print('Index of larger value ')\n",
    "#print(df1['Comedy_score'].ioxmax())"
   ]
  },
  {
   "cell_type": "code",
   "execution_count": null,
   "id": "2ccb4724",
   "metadata": {},
   "outputs": [],
   "source": []
  }
 ],
 "metadata": {
  "kernelspec": {
   "display_name": "Python 3 (ipykernel)",
   "language": "python",
   "name": "python3"
  },
  "language_info": {
   "codemirror_mode": {
    "name": "ipython",
    "version": 3
   },
   "file_extension": ".py",
   "mimetype": "text/x-python",
   "name": "python",
   "nbconvert_exporter": "python",
   "pygments_lexer": "ipython3",
   "version": "3.9.13"
  }
 },
 "nbformat": 4,
 "nbformat_minor": 5
}
