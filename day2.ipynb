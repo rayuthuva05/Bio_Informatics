{
 "cells": [
  {
   "cell_type": "code",
   "execution_count": 13,
   "id": "d7205ea1",
   "metadata": {},
   "outputs": [
    {
     "name": "stdout",
     "output_type": "stream",
     "text": [
      "hello\n",
      "MAathi\n"
     ]
    }
   ],
   "source": [
    "def func():\n",
    "    print(\"hello\")\n",
    "    print(\"MAathi\")\n",
    "\n",
    "func()"
   ]
  },
  {
   "cell_type": "code",
   "execution_count": 14,
   "id": "7628c012",
   "metadata": {},
   "outputs": [
    {
     "name": "stdout",
     "output_type": "stream",
     "text": [
      "hello\n",
      "MAathi\n"
     ]
    }
   ],
   "source": [
    "func()"
   ]
  },
  {
   "cell_type": "code",
   "execution_count": 11,
   "id": "81986d26",
   "metadata": {},
   "outputs": [
    {
     "name": "stdout",
     "output_type": "stream",
     "text": [
      "thuva\n",
      "MAathi\n"
     ]
    }
   ],
   "source": [
    "def func1(a):\n",
    "    print(a)\n",
    "    print(\"MAathi\")\n",
    "\n",
    "func1(\"thuva\")"
   ]
  },
  {
   "cell_type": "code",
   "execution_count": 15,
   "id": "cc95674b",
   "metadata": {},
   "outputs": [
    {
     "name": "stdout",
     "output_type": "stream",
     "text": [
      "4\n",
      "5\n",
      "6\n",
      "7\n",
      "8\n",
      "hi\n"
     ]
    }
   ],
   "source": [
    "L=[4,5,6,7,8,\"hi\"]\n",
    "\n",
    "for x in L:\n",
    "    print(x)"
   ]
  },
  {
   "cell_type": "code",
   "execution_count": 16,
   "id": "49884684",
   "metadata": {},
   "outputs": [
    {
     "name": "stdout",
     "output_type": "stream",
     "text": [
      "4\n",
      "5\n",
      "6\n"
     ]
    }
   ],
   "source": [
    "for y in L:\n",
    "    if y==7:\n",
    "        break;\n",
    "    print(y)"
   ]
  },
  {
   "cell_type": "code",
   "execution_count": 17,
   "id": "91cf967d",
   "metadata": {},
   "outputs": [
    {
     "name": "stdout",
     "output_type": "stream",
     "text": [
      "4\n",
      "5\n",
      "6\n",
      "8\n",
      "hi\n"
     ]
    }
   ],
   "source": [
    "for m in L:\n",
    "    if m==7:\n",
    "        continue;\n",
    "    print(m)"
   ]
  },
  {
   "cell_type": "code",
   "execution_count": 31,
   "id": "78ec1db3",
   "metadata": {},
   "outputs": [
    {
     "name": "stdout",
     "output_type": "stream",
     "text": [
      "0\n",
      "1\n",
      "2\n",
      "3\n",
      "4\n",
      "5\n"
     ]
    }
   ],
   "source": [
    "for i in range(6):\n",
    "    print(i)"
   ]
  },
  {
   "cell_type": "code",
   "execution_count": 32,
   "id": "d69e043b",
   "metadata": {},
   "outputs": [
    {
     "name": "stdout",
     "output_type": "stream",
     "text": [
      "2\n",
      "3\n",
      "4\n",
      "5\n",
      "6\n",
      "7\n"
     ]
    }
   ],
   "source": [
    "for j in range(2,8):\n",
    "    print(j)"
   ]
  },
  {
   "cell_type": "code",
   "execution_count": null,
   "id": "85fc32cf",
   "metadata": {},
   "outputs": [],
   "source": []
  },
  {
   "cell_type": "code",
   "execution_count": 40,
   "id": "42fa11e0",
   "metadata": {},
   "outputs": [
    {
     "name": "stdout",
     "output_type": "stream",
     "text": [
      "1   2   3   4   5   6   7   8   9   10   11   12   \n",
      "************\n",
      "2   4   6   8   10   12   14   16   18   20   22   24   \n",
      "************\n",
      "3   6   9   12   15   18   21   24   27   30   33   36   \n",
      "************\n",
      "4   8   12   16   20   24   28   32   36   40   44   48   \n",
      "************\n",
      "5   10   15   20   25   30   35   40   45   50   55   60   \n",
      "************\n",
      "6   12   18   24   30   36   42   48   54   60   66   72   \n",
      "************\n",
      "7   14   21   28   35   42   49   56   63   70   77   84   \n",
      "************\n",
      "8   16   24   32   40   48   56   64   72   80   88   96   \n",
      "************\n",
      "9   18   27   36   45   54   63   72   81   90   99   108   \n",
      "************\n",
      "10   20   30   40   50   60   70   80   90   100   110   120   \n",
      "************\n"
     ]
    }
   ],
   "source": [
    "for i in range(1,11):\n",
    "    for j in range(1,13):\n",
    "        print(i*j,\" \",end=\" \")\n",
    "    print('\\n************')"
   ]
  },
  {
   "cell_type": "code",
   "execution_count": 43,
   "id": "00daebba",
   "metadata": {},
   "outputs": [
    {
     "name": "stdout",
     "output_type": "stream",
     "text": [
      "A => 4\n",
      "T => 4\n",
      "G => 4\n",
      "C => 3\n"
     ]
    }
   ],
   "source": [
    "DNA=\"ATGCGATACGCTTGA\"\n",
    "CHAR=\"ATGC\"\n",
    "count=[0,0,0,0];\n",
    "for x in DNA:\n",
    "    for y in range(4):\n",
    "        if x in CHAR[y]:\n",
    "            count[y]+=1\n",
    "for m in range(4):\n",
    "    print(CHAR[m],\"=>\",count[m])"
   ]
  },
  {
   "cell_type": "code",
   "execution_count": null,
   "id": "4bd2378c",
   "metadata": {},
   "outputs": [],
   "source": []
  }
 ],
 "metadata": {
  "kernelspec": {
   "display_name": "Python 3 (ipykernel)",
   "language": "python",
   "name": "python3"
  },
  "language_info": {
   "codemirror_mode": {
    "name": "ipython",
    "version": 3
   },
   "file_extension": ".py",
   "mimetype": "text/x-python",
   "name": "python",
   "nbconvert_exporter": "python",
   "pygments_lexer": "ipython3",
   "version": "3.9.13"
  }
 },
 "nbformat": 4,
 "nbformat_minor": 5
}
